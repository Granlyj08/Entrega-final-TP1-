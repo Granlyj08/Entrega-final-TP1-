{
 "cells": [
  {
   "cell_type": "code",
   "execution_count": 1,
   "id": "3a0a3d15-b86b-4795-833c-ecf0266c79dd",
   "metadata": {},
   "outputs": [],
   "source": [
    "import requests\n",
    "import json"
   ]
  },
  {
   "cell_type": "code",
   "execution_count": 52,
   "id": "11f8b3f7-9493-4498-b452-7d6cb2159bf7",
   "metadata": {},
   "outputs": [],
   "source": [
    "#En este punto delimitaremos que producto realizaremos la busqueda dentro de la API de MELI\n",
    "query = \"laptop\""
   ]
  },
  {
   "cell_type": "code",
   "execution_count": 55,
   "id": "d78a542c-13db-4498-998e-09697fceb3c1",
   "metadata": {},
   "outputs": [],
   "source": [
    "search_url = f\"https://api.mercadolibre.com/sites/MLA/search?q={query}\"\n",
    "\n",
    "response = requests.get(search_url)"
   ]
  },
  {
   "cell_type": "code",
   "execution_count": 4,
   "id": "00e84942-61c9-4994-9247-391667c0ad17",
   "metadata": {},
   "outputs": [],
   "source": [
    "if response.status_code == 200:\n",
    "    \n",
    "    search_results = response.json()"
   ]
  },
  {
   "cell_type": "code",
   "execution_count": 8,
   "id": "d696f4ff-90a5-49f9-b3fe-4ff3a83dc668",
   "metadata": {},
   "outputs": [
    {
     "name": "stdout",
     "output_type": "stream",
     "text": [
      "ID: MLA1424712885, Título: Notebook Exo Smart T38 Intel N4020 4gb Ssd128gb Windows 11 Color Gris, Precio: 384999, Link: https://www.mercadolibre.com.ar/notebook-exo-smart-t38-intel-n4020-4gb-ssd128gb-windows-11-color-gris/p/MLA22826188#wid=MLA1424712885&sid=unknown\n",
      "ID: MLA1426346197, Título: Notebook Hp Intel Core I3 N305, Ddr4 8gb Ram, 256gb Ssd, Windows 11, Patalla 14  Hd, Moonlight Blue, Precio: 805999, Link: https://www.mercadolibre.com.ar/notebook-hp-intel-core-i3-n305-ddr4-8gb-ram-256gb-ssd-windows-11-patalla-14-hd-moonlight-blue/p/MLA38756798#wid=MLA1426346197&sid=unknown\n",
      "ID: MLA1459751602, Título: Notebook Samsung Galaxy Book3 Pro 14 Intel Core I5 12 Núcleos 16gb Color Graphite, Precio: 1999999, Link: https://www.mercadolibre.com.ar/notebook-samsung-galaxy-book3-pro-14-intel-core-i5-12-nucleos-16gb-color-graphite/p/MLA24848247#wid=MLA1459751602&sid=unknown\n",
      "ID: MLA1449873737, Título: Notebook Hp Intel Celeron 8gb De Ram 128gb Ssd Emmc 14-dq0760dx 14 Pulgadas Hd 1366 X 768 Intel Graphics Windows 11 Home, Precio: 522899, Link: https://www.mercadolibre.com.ar/notebook-hp-intel-celeron-8gb-de-ram-128gb-ssd-emmc-14-dq0760dx-14-pulgadas-hd-1366-x-768-intel-graphics-windows-11-home/p/MLA40652709#wid=MLA1449873737&sid=unknown\n",
      "ID: MLA1852464206, Título: Notebook Lenovo Ideapad 1 4gb 128gb 14 Intel Celeron W11 Color Plateado, Precio: 454399, Link: https://www.mercadolibre.com.ar/notebook-lenovo-ideapad-1-4gb-128gb-14-intel-celeron-w11-color-plateado/p/MLA29590978#wid=MLA1852464206&sid=unknown\n",
      "ID: MLA1456671523, Título: Notebook Asus Vivobook 14 Intel Core I3 1215u, 8gb De Ram, 128gb Ssd, Full Hd,  Windows 11 Home, Precio: 704999, Link: https://www.mercadolibre.com.ar/notebook-asus-vivobook-14-intel-core-i3-1215u-8gb-de-ram-128gb-ssd-full-hd-windows-11-home/p/MLA35741114#wid=MLA1456671523&sid=unknown\n",
      "ID: MLA1848679454, Título: Netbook Exomate X5-s1441p Intel N4020c 4gb Ssd128gb 11,6 W11 Color Gris, Precio: 329999, Link: https://www.mercadolibre.com.ar/netbook-exomate-x5-s1441p-intel-n4020c-4gb-ssd128gb-116-w11-color-gris/p/MLA35101893#wid=MLA1848679454&sid=unknown\n",
      "ID: MLA1822063434, Título: Notebook Acer Aspire Ryzen 7 5700u 16gb 512gb 15,6' Fhd Gris Color Plateado, Precio: 1289000, Link: https://www.mercadolibre.com.ar/notebook-acer-aspire-ryzen-7-5700u-16gb-512gb-156-fhd-gris-color-plateado/p/MLA35478000#wid=MLA1822063434&sid=unknown\n",
      "ID: MLA1911231852, Título: Notebook Asus E410ka  Intel Celeron N4500 4gb 64gb Emmc W11, Precio: 299999.25, Link: https://articulo.mercadolibre.com.ar/MLA-1911231852-notebook-asus-e410ka-intel-celeron-n4500-4gb-64gb-emmc-w11-_JM\n",
      "ID: MLA1915791670, Título: Notebook Hp Pavilion 15-eg2529la Core I5 16gb Ram 512 Ssd Pcie Win11 Color Azul, Precio: 1158414, Link: https://www.mercadolibre.com.ar/notebook-hp-pavilion-15-eg2529la-core-i5-16gb-ram-512-ssd-pcie-win11-color-azul/p/MLA38826926#wid=MLA1915791670&sid=unknown\n",
      "Error en la solicitud: 200\n"
     ]
    }
   ],
   "source": [
    "for item in search_results['results'][:10]:\n",
    "        print(f\"ID: {item['id']}, Título: {item['title']}, Precio: {item['price']}, Link: {item['permalink']}\")\n",
    "else:\n",
    "    print(f\"Error en la solicitud: {response.status_code}\")"
   ]
  },
  {
   "cell_type": "code",
   "execution_count": 9,
   "id": "e7b100b6-c44f-4694-bfb3-0851ebb8a9c8",
   "metadata": {},
   "outputs": [
    {
     "name": "stdout",
     "output_type": "stream",
     "text": [
      "Collecting pandas\n",
      "  Downloading pandas-2.2.3-cp313-cp313-win_amd64.whl.metadata (19 kB)\n",
      "Collecting numpy>=1.26.0 (from pandas)\n",
      "  Downloading numpy-2.1.2-cp313-cp313-win_amd64.whl.metadata (59 kB)\n",
      "Requirement already satisfied: python-dateutil>=2.8.2 in c:\\users\\marcia lopez\\appdata\\local\\programs\\python\\python313\\lib\\site-packages (from pandas) (2.9.0.post0)\n",
      "Collecting pytz>=2020.1 (from pandas)\n",
      "  Downloading pytz-2024.2-py2.py3-none-any.whl.metadata (22 kB)\n",
      "Collecting tzdata>=2022.7 (from pandas)\n",
      "  Downloading tzdata-2024.2-py2.py3-none-any.whl.metadata (1.4 kB)\n",
      "Requirement already satisfied: six>=1.5 in c:\\users\\marcia lopez\\appdata\\local\\programs\\python\\python313\\lib\\site-packages (from python-dateutil>=2.8.2->pandas) (1.16.0)\n",
      "Downloading pandas-2.2.3-cp313-cp313-win_amd64.whl (11.5 MB)\n",
      "   ---------------------------------------- 0.0/11.5 MB ? eta -:--:--\n",
      "   ----------- ---------------------------- 3.4/11.5 MB 29.9 MB/s eta 0:00:01\n",
      "   ---------------------------------------- 11.5/11.5 MB 30.2 MB/s eta 0:00:00\n",
      "Downloading numpy-2.1.2-cp313-cp313-win_amd64.whl (12.6 MB)\n",
      "   ---------------------------------------- 0.0/12.6 MB ? eta -:--:--\n",
      "   ------------------------- -------------- 8.1/12.6 MB 38.1 MB/s eta 0:00:01\n",
      "   ---------------------------------------  12.3/12.6 MB 29.7 MB/s eta 0:00:01\n",
      "   ---------------------------------------- 12.6/12.6 MB 25.4 MB/s eta 0:00:00\n",
      "Downloading pytz-2024.2-py2.py3-none-any.whl (508 kB)\n",
      "Downloading tzdata-2024.2-py2.py3-none-any.whl (346 kB)\n",
      "Installing collected packages: pytz, tzdata, numpy, pandas\n",
      "Successfully installed numpy-2.1.2 pandas-2.2.3 pytz-2024.2 tzdata-2024.2\n"
     ]
    }
   ],
   "source": [
    "!pip install pandas"
   ]
  },
  {
   "cell_type": "code",
   "execution_count": 19,
   "id": "9d58b982-95d3-44b5-9211-12f601684694",
   "metadata": {},
   "outputs": [],
   "source": [
    "import pandas as pd"
   ]
  },
  {
   "cell_type": "code",
   "execution_count": 10,
   "id": "1dde9bee-d32a-45da-bc98-886081f82a2f",
   "metadata": {},
   "outputs": [],
   "source": [
    "precios = [384999, 805999, 1999999, 522899, 454399, 704999, 329999, 1289000, 299999, 1158414]"
   ]
  },
  {
   "cell_type": "code",
   "execution_count": 14,
   "id": "2f35d95d-f3ea-4be4-8d5e-4a001ba96810",
   "metadata": {},
   "outputs": [],
   "source": [
    "df = pd.DataFrame(precios, columns=['Precio'])"
   ]
  },
  {
   "cell_type": "code",
   "execution_count": 51,
   "id": "664b2d95-a4bb-495e-a3bb-b86afd69f0db",
   "metadata": {},
   "outputs": [],
   "source": [
    "#Posteriormente, realizaremos la busqueda de su promedio, mínimos y máximos de los precios del artículo que hemos elegido\n",
    "precio_promedio = df['Precio'].mean()\n",
    "precio_minimo = df['Precio'].min()\n",
    "precio_maximo = df['Precio'].max()"
   ]
  },
  {
   "cell_type": "code",
   "execution_count": 16,
   "id": "20269a8c-835c-400e-aa57-743958d176fe",
   "metadata": {},
   "outputs": [
    {
     "name": "stdout",
     "output_type": "stream",
     "text": [
      "Precio promedio: 795070.60 ARS\n",
      "Precio mínimo: 299999 ARS\n",
      "Precio máximo: 1999999 ARS\n"
     ]
    }
   ],
   "source": [
    "print(f\"Precio promedio: {precio_promedio:.2f} ARS\")\n",
    "print(f\"Precio mínimo: {precio_minimo} ARS\")\n",
    "print(f\"Precio máximo: {precio_maximo} ARS\")"
   ]
  },
  {
   "cell_type": "code",
   "execution_count": 18,
   "id": "a8a096ef-2f54-4905-98a1-68536b6dad75",
   "metadata": {},
   "outputs": [
    {
     "name": "stdout",
     "output_type": "stream",
     "text": [
      "Collecting matplotlib\n",
      "  Downloading matplotlib-3.9.2-cp313-cp313-win_amd64.whl.metadata (11 kB)\n",
      "Collecting contourpy>=1.0.1 (from matplotlib)\n",
      "  Downloading contourpy-1.3.0-cp313-cp313-win_amd64.whl.metadata (5.4 kB)\n",
      "Collecting cycler>=0.10 (from matplotlib)\n",
      "  Downloading cycler-0.12.1-py3-none-any.whl.metadata (3.8 kB)\n",
      "Collecting fonttools>=4.22.0 (from matplotlib)\n",
      "  Downloading fonttools-4.54.1-cp313-cp313-win_amd64.whl.metadata (167 kB)\n",
      "Collecting kiwisolver>=1.3.1 (from matplotlib)\n",
      "  Downloading kiwisolver-1.4.7-cp313-cp313-win_amd64.whl.metadata (6.4 kB)\n",
      "Requirement already satisfied: numpy>=1.23 in c:\\users\\marcia lopez\\appdata\\local\\programs\\python\\python313\\lib\\site-packages (from matplotlib) (2.1.2)\n",
      "Requirement already satisfied: packaging>=20.0 in c:\\users\\marcia lopez\\appdata\\local\\programs\\python\\python313\\lib\\site-packages (from matplotlib) (24.1)\n",
      "Collecting pillow>=8 (from matplotlib)\n",
      "  Downloading pillow-11.0.0-cp313-cp313-win_amd64.whl.metadata (9.3 kB)\n",
      "Collecting pyparsing>=2.3.1 (from matplotlib)\n",
      "  Downloading pyparsing-3.2.0-py3-none-any.whl.metadata (5.0 kB)\n",
      "Requirement already satisfied: python-dateutil>=2.7 in c:\\users\\marcia lopez\\appdata\\local\\programs\\python\\python313\\lib\\site-packages (from matplotlib) (2.9.0.post0)\n",
      "Requirement already satisfied: six>=1.5 in c:\\users\\marcia lopez\\appdata\\local\\programs\\python\\python313\\lib\\site-packages (from python-dateutil>=2.7->matplotlib) (1.16.0)\n",
      "Downloading matplotlib-3.9.2-cp313-cp313-win_amd64.whl (7.8 MB)\n",
      "   ---------------------------------------- 0.0/7.8 MB ? eta -:--:--\n",
      "   ------------------------- -------------- 5.0/7.8 MB 27.1 MB/s eta 0:00:01\n",
      "   ---------------------------------------- 7.8/7.8 MB 24.5 MB/s eta 0:00:00\n",
      "Downloading contourpy-1.3.0-cp313-cp313-win_amd64.whl (218 kB)\n",
      "Downloading cycler-0.12.1-py3-none-any.whl (8.3 kB)\n",
      "Downloading fonttools-4.54.1-cp313-cp313-win_amd64.whl (2.2 MB)\n",
      "   ---------------------------------------- 0.0/2.2 MB ? eta -:--:--\n",
      "   ---------------------------------------- 2.2/2.2 MB 19.3 MB/s eta 0:00:00\n",
      "Downloading kiwisolver-1.4.7-cp313-cp313-win_amd64.whl (55 kB)\n",
      "Downloading pillow-11.0.0-cp313-cp313-win_amd64.whl (2.6 MB)\n",
      "   ---------------------------------------- 0.0/2.6 MB ? eta -:--:--\n",
      "   ---------------------------------------- 2.6/2.6 MB 15.7 MB/s eta 0:00:00\n",
      "Downloading pyparsing-3.2.0-py3-none-any.whl (106 kB)\n",
      "Installing collected packages: pyparsing, pillow, kiwisolver, fonttools, cycler, contourpy, matplotlib\n",
      "Successfully installed contourpy-1.3.0 cycler-0.12.1 fonttools-4.54.1 kiwisolver-1.4.7 matplotlib-3.9.2 pillow-11.0.0 pyparsing-3.2.0\n"
     ]
    }
   ],
   "source": [
    "!pip install matplotlib\n",
    "import matplotlib.pyplot as plt"
   ]
  },
  {
   "cell_type": "code",
   "execution_count": 50,
   "id": "64ae9ab1-4c61-4800-83de-65710fdbf820",
   "metadata": {},
   "outputs": [],
   "source": [
    "#En este punto, por medio de un Pandas, hemos creado un dataframe para obtener el histor¿grama con los precios obtenidos\n",
    "precios = [384999, 805999, 1999999, 522899, 454399, 704999, 329999, 1289000, 299999, 1158414]\n",
    "\n",
    "df = pd.DataFrame(precios, columns=['Precio'])"
   ]
  },
  {
   "cell_type": "code",
   "execution_count": 24,
   "id": "8ff9c08c-5903-4cb6-8c05-db9f586bdd63",
   "metadata": {},
   "outputs": [
    {
     "data": {
      "image/png": "[encoded data removed]",
      "text/plain": [
       "<Figure size 640x480 with 1 Axes>"
      ]
     },
     "metadata": {},
     "output_type": "display_data"
    }
   ],
   "source": [
    "df['Precio'].plot(kind='hist', bins=10, color='skyblue', edgecolor='black')\n",
    "plt.xlim(0, max(precios))\n",
    "\n",
    "plt.title('Histograma de Precios de Notebooks')\n",
    "plt.xlabel('Precio (ARS)')\n",
    "plt.ylabel('Frecuencia')\n",
    "\n",
    "plt.show()"
   ]
  },
  {
   "cell_type": "code",
   "execution_count": 25,
   "id": "c91d8f31-1fc9-4b50-92fd-29498bdaeca8",
   "metadata": {},
   "outputs": [],
   "source": [
    "categoria_vendedor = 'MLA1055'\n",
    "url = f'https://api.mercadolibre.com/sites/MLA/search?category={categoria_vendedor}'"
   ]
  },
  {
   "cell_type": "code",
   "execution_count": 57,
   "id": "d02a4bc1-353a-47ed-8ef5-0c3cfd73f96c",
   "metadata": {},
   "outputs": [
    {
     "name": "stdout",
     "output_type": "stream",
     "text": [
      "Index(['id', 'title', 'condition', 'thumbnail_id', 'catalog_product_id',\n",
      "       'listing_type_id', 'sanitized_title', 'permalink', 'buying_mode',\n",
      "       'site_id', 'category_id', 'domain_id', 'thumbnail', 'currency_id',\n",
      "       'order_backend', 'price', 'original_price', 'sale_price',\n",
      "       'available_quantity', 'official_store_id', 'official_store_name',\n",
      "       'use_thumbnail_id', 'accepts_mercadopago', 'shipping', 'stop_time',\n",
      "       'seller', 'attributes', 'installments', 'winner_item_id',\n",
      "       'catalog_listing', 'discounts', 'promotions', 'inventory_id',\n",
      "       'variation_filters', 'variations_data'],\n",
      "      dtype='object')\n",
      "                                                title       price currency_id  \\\n",
      "0   Notebook Exo Smart T38 Intel N4020 4gb Ssd128g...   384999.00         ARS   \n",
      "1   Notebook Hp Intel Core I3 N305, Ddr4 8gb Ram, ...   805999.00         ARS   \n",
      "2   Notebook Lenovo Ideapad 1 4gb 128gb 14 Intel C...   454399.00         ARS   \n",
      "3   Netbook Exomate X5-s1441p Intel N4020c 4gb Ssd...   329999.00         ARS   \n",
      "4   Notebook Asus Vivobook 14 Intel Core I3 1215u,...   704999.00         ARS   \n",
      "5   Notebook Hp Intel Celeron 16gb De Ram 128gb Ss...   558799.00         ARS   \n",
      "6   Notebook Asus E410ka  Intel Celeron N4500 4gb ...   299999.25         ARS   \n",
      "7   Notebook Lenovo Ideapad 1 15iau7 Pantalla Táct...   899999.00         ARS   \n",
      "8   Notebook Hp Pavilion 15-eg2529la Core I5 16gb ...  1158414.00         ARS   \n",
      "9   Notebook Noblex N14x1010 14.1 Hd Intel Celeron...   389999.00         ARS   \n",
      "10  Notebook Hp Intel Celeron 8gb De Ram 128gb Ssd...   522899.00         ARS   \n",
      "11  Notebook Dell Inspiron 15 3515 Ryzen 5 256gb 8...  1019999.00         ARS   \n",
      "12  Notebook X515ea 15.6  Color Slate Grey 8gb De ...   718799.00         ARS   \n",
      "13  Notebook Samsung Galaxy Book3 Pro 14 Intel Cor...  1999999.00         ARS   \n",
      "14  Notebook Hp Intel I5 1135g7 8gb 256gb Windows ...   996000.00         ARS   \n",
      "15  Notebook Acer Aspire Ryzen 7 5700u 16gb 512gb ...  1365799.00         ARS   \n",
      "16  Notebook Inspiron 3515 15.5  Color Plateado 32...  1068829.00         ARS   \n",
      "17  Notebook Laptop Geobook 14 Intel Celeron 4gb D...   341165.00         ARS   \n",
      "18  Notebook Hp Intel I3-n305 8gb 256gb 14'' Hd Wi...   805999.00         ARS   \n",
      "19  Notebook Lenovo Ideapad 1 14igl7 14 Pulgadas H...   467999.00         ARS   \n",
      "20  Notebook Inspiron 3515 15.5  Color Plateado 16...  1127812.50         ARS   \n",
      "21  Notebook X515ea 15.6  Color Slate Gray 40gb De...  1668391.00         ARS   \n",
      "22  Notebook Pavilion 14-dv2004la 14  Color Plata ...  1565199.00         ARS   \n",
      "23  Notebook Asus Vivobook Go 14 Windows 11 128gb ...   509999.00         ARS   \n",
      "24  Notebook Asus Vivobook 14 Intel Core I3 1215u ...   821599.00         ARS   \n",
      "25  Notebook Hp 255 G10 Amd Ryzen 3 7330u 32 Gb Dd...  1115199.00         ARS   \n",
      "26  Notebook Bgh Positivo At At520ln 14 4gb De Ram...   381888.00         ARS   \n",
      "27  Notebook Netbook Sf20gm7 Color Blanco 8gb De R...   359000.00         ARS   \n",
      "28  Notebook Lenovo Intel I5 1135g7 8gb 256gb 14''...   819999.00         ARS   \n",
      "29  Notebook Lenovo Pentium Silver N5030 4gb 128gb...   616499.00         ARS   \n",
      "30  Notebook Lenovo Thinkbook 14 G4 Iap Intel Core...  1172509.00         ARS   \n",
      "31  Notebook Vaio Intel Core I7 1255u W11 16gb 512...  1340991.00         ARS   \n",
      "32  Notebook Hp 255 G10 Ryzen 5 7530u 16gb Ddr4 Ra...   997000.00         ARS   \n",
      "33  Notebook Nsx Intel Celeron N5100 8gb Ram 256gb...   529599.00         ARS   \n",
      "34  Notebook Hp 255 G10 Amd Ryzen 7 7730u 16gb De ...  1009399.00         ARS   \n",
      "35  Notebook X515ea 15.6  Color Slate Grey 40gb De...  1431799.00         ARS   \n",
      "36  Notebook Lenovo Slim 3 15iah8 I5 12va 8gb 512g...  1129999.00         ARS   \n",
      "37  Notebook Lenovo V14 G4 Ryzen 5 5500u 8gb 256gb...   883495.82         ARS   \n",
      "38  Netbook Exomate X5 Celeron 11.6 4gb Disco Ssd ...   263599.00         ARS   \n",
      "39  Notebook Asus Vivobook 14 Intel Core I3 1215u,...   685999.00         ARS   \n",
      "40  Notebook Lenovo Ideapad Slim 3 15,6 Ryzen 3 8g...   723999.00         ARS   \n",
      "41  Notebook Asus Vivobook 16 Intel Core I7 1255u ...  1199990.00         ARS   \n",
      "42  Notebook X515ea 15.6  Color Slate Gray 16gb De...  1368699.00         ARS   \n",
      "43  Notebook Noblex N14x1000 14.1  Hd Intel Celero...   499990.00         ARS   \n",
      "44  Notebook Dell Latitude 3440 Intel Core I5-1335...  1387299.00         ARS   \n",
      "45  Notebook Daewoo M15 Core I5 8gb Ssd 512b 15.6 ...   859999.00         ARS   \n",
      "46  Apple Macbook Air (13 Pulgadas, 2020, Chip M1,...  1818789.00         ARS   \n",
      "47  Notebook Lenovo Ideapad Slim 3 15,6 Ryzen 5 8g...   996999.00         ARS   \n",
      "48  Notebook Hp 250 G9 7c6j8la Color Negro 64gb De...  1858489.00         ARS   \n",
      "49  Notebook Hp 15-dy5131wm Intel Core I3 1215u 8g...   909999.00         ARS   \n",
      "\n",
      "    available_quantity  \n",
      "0                  100  \n",
      "1                    1  \n",
      "2                  200  \n",
      "3                   50  \n",
      "4                    1  \n",
      "5                  250  \n",
      "6                  250  \n",
      "7                  100  \n",
      "8                    1  \n",
      "9                   50  \n",
      "10                 250  \n",
      "11                   1  \n",
      "12                 500  \n",
      "13                   1  \n",
      "14                  50  \n",
      "15                 500  \n",
      "16                   1  \n",
      "17                   1  \n",
      "18                   1  \n",
      "19                 500  \n",
      "20                   1  \n",
      "21                   1  \n",
      "22                   1  \n",
      "23                 500  \n",
      "24                 150  \n",
      "25                  50  \n",
      "26                 100  \n",
      "27                   1  \n",
      "28                   1  \n",
      "29                 200  \n",
      "30                  50  \n",
      "31                   1  \n",
      "32                 250  \n",
      "33                   1  \n",
      "34                   1  \n",
      "35                 150  \n",
      "36                   1  \n",
      "37                  50  \n",
      "38                 500  \n",
      "39                 150  \n",
      "40                   1  \n",
      "41                   1  \n",
      "42                 100  \n",
      "43                   1  \n",
      "44                 150  \n",
      "45                   1  \n",
      "46                   1  \n",
      "47                  50  \n",
      "48                   1  \n",
      "49                   1  \n"
     ]
    }
   ],
   "source": [
    "#En la API realizaremos la búsqueda por medio del código de vendedor de los productos puestos a disposición\n",
    "if response.status_code == 200:\n",
    "    datos = response.json()  \n",
    "    items = datos['results']\n",
    "    df = pd.DataFrame(items)  \n",
    "    print(df.columns)  \n",
    "\n",
    "    columnas = ['title', 'price', 'currency_id', 'available_quantity']\n",
    "    columnas_existentes = [col for col in columnas if col in df.columns] \n",
    "    print(df[columnas_existentes])\n",
    "    \n",
    "else:\n",
    "    print(f'Error en la solicitud: {response.status_code}')"
   ]
  },
  {
   "cell_type": "code",
   "execution_count": 39,
   "id": "d2d82838-53c1-4dec-afcd-df3e4318a546",
   "metadata": {},
   "outputs": [
    {
     "name": "stdout",
     "output_type": "stream",
     "text": [
      "El precio promedio es: 436742.9485714286 ARS\n"
     ]
    }
   ],
   "source": [
    "precio_promedio = df['price'].mean()\n",
    "print(f'El precio promedio es: {precio_promedio} {df[\"currency_id\"].iloc[0]}')"
   ]
  },
  {
   "cell_type": "code",
   "execution_count": 40,
   "id": "892223f2-336d-4a7d-a448-6f8471656e56",
   "metadata": {},
   "outputs": [
    {
     "name": "stdout",
     "output_type": "stream",
     "text": [
      "Cantida de productos disponibles: 7029\n"
     ]
    }
   ],
   "source": [
    "total_disponible = df['available_quantity'].sum()\n",
    "print(f'Cantida de productos disponibles: {total_disponible}')"
   ]
  },
  {
   "cell_type": "code",
   "execution_count": 48,
   "id": "b2282e6c-a5d4-43be-b3d9-1ba3ba7a016d",
   "metadata": {},
   "outputs": [
    {
     "name": "stdout",
     "output_type": "stream",
     "text": [
      "Collecting openpyxl\n",
      "  Downloading openpyxl-3.1.5-py2.py3-none-any.whl.metadata (2.5 kB)\n",
      "Collecting et-xmlfile (from openpyxl)\n",
      "  Downloading et_xmlfile-1.1.0-py3-none-any.whl.metadata (1.8 kB)\n",
      "Downloading openpyxl-3.1.5-py2.py3-none-any.whl (250 kB)\n",
      "Downloading et_xmlfile-1.1.0-py3-none-any.whl (4.7 kB)\n",
      "Installing collected packages: et-xmlfile, openpyxl\n",
      "Successfully installed et-xmlfile-1.1.0 openpyxl-3.1.5\n"
     ]
    }
   ],
   "source": [
    "import requests\n",
    "from bs4 import BeautifulSoup\n",
    "import pandas as pd\n",
    "!pip install openpyxl"
   ]
  },
  {
   "cell_type": "code",
   "execution_count": 44,
   "id": "48460039-2111-4ccf-8081-5a1c2f9190c2",
   "metadata": {},
   "outputs": [],
   "source": [
    "url = \"https://www.lanacion.com.ar/\"\n",
    "\n",
    "response = requests.get(url)\n",
    "\n",
    "if response.status_code == 200:\n",
    "    soup = BeautifulSoup(response.text, 'html.parser')"
   ]
  },
  {
   "cell_type": "code",
   "execution_count": 58,
   "id": "8c7b328c-248b-4e3b-a187-f50c985c1f40",
   "metadata": {},
   "outputs": [
    {
     "name": "stdout",
     "output_type": "stream",
     "text": [
      "Archivo Excel exportado con éxito.\n",
      "Archivo Excel exportado con éxito.\n",
      "Archivo Excel exportado con éxito.\n",
      "Archivo Excel exportado con éxito.\n",
      "Archivo Excel exportado con éxito.\n",
      "Archivo Excel exportado con éxito.\n",
      "Archivo Excel exportado con éxito.\n",
      "Archivo Excel exportado con éxito.\n",
      "Archivo Excel exportado con éxito.\n",
      "Archivo Excel exportado con éxito.\n",
      "Archivo Excel exportado con éxito.\n",
      "Archivo Excel exportado con éxito.\n",
      "Archivo Excel exportado con éxito.\n",
      "Archivo Excel exportado con éxito.\n",
      "Archivo Excel exportado con éxito.\n",
      "Archivo Excel exportado con éxito.\n",
      "Archivo Excel exportado con éxito.\n",
      "Archivo Excel exportado con éxito.\n",
      "Archivo Excel exportado con éxito.\n",
      "Archivo Excel exportado con éxito.\n",
      "Archivo Excel exportado con éxito.\n",
      "Archivo Excel exportado con éxito.\n",
      "Archivo Excel exportado con éxito.\n",
      "Archivo Excel exportado con éxito.\n",
      "Archivo Excel exportado con éxito.\n",
      "Archivo Excel exportado con éxito.\n",
      "Archivo Excel exportado con éxito.\n",
      "Archivo Excel exportado con éxito.\n",
      "Archivo Excel exportado con éxito.\n",
      "Archivo Excel exportado con éxito.\n",
      "Archivo Excel exportado con éxito.\n",
      "Archivo Excel exportado con éxito.\n",
      "Archivo Excel exportado con éxito.\n",
      "Archivo Excel exportado con éxito.\n",
      "Archivo Excel exportado con éxito.\n",
      "Archivo Excel exportado con éxito.\n",
      "Archivo Excel exportado con éxito.\n",
      "Archivo Excel exportado con éxito.\n",
      "Archivo Excel exportado con éxito.\n",
      "Archivo Excel exportado con éxito.\n",
      "Archivo Excel exportado con éxito.\n",
      "Archivo Excel exportado con éxito.\n",
      "Archivo Excel exportado con éxito.\n",
      "Archivo Excel exportado con éxito.\n",
      "Archivo Excel exportado con éxito.\n",
      "Archivo Excel exportado con éxito.\n",
      "Archivo Excel exportado con éxito.\n",
      "Archivo Excel exportado con éxito.\n",
      "Archivo Excel exportado con éxito.\n",
      "Archivo Excel exportado con éxito.\n",
      "Archivo Excel exportado con éxito.\n",
      "Archivo Excel exportado con éxito.\n",
      "Archivo Excel exportado con éxito.\n",
      "Archivo Excel exportado con éxito.\n",
      "Archivo Excel exportado con éxito.\n",
      "Archivo Excel exportado con éxito.\n",
      "Archivo Excel exportado con éxito.\n",
      "Archivo Excel exportado con éxito.\n",
      "Archivo Excel exportado con éxito.\n",
      "Archivo Excel exportado con éxito.\n",
      "Archivo Excel exportado con éxito.\n",
      "Archivo Excel exportado con éxito.\n",
      "Archivo Excel exportado con éxito.\n",
      "Archivo Excel exportado con éxito.\n",
      "Archivo Excel exportado con éxito.\n",
      "Archivo Excel exportado con éxito.\n",
      "Archivo Excel exportado con éxito.\n",
      "Archivo Excel exportado con éxito.\n",
      "Archivo Excel exportado con éxito.\n",
      "Archivo Excel exportado con éxito.\n",
      "Archivo Excel exportado con éxito.\n",
      "Archivo Excel exportado con éxito.\n",
      "Archivo Excel exportado con éxito.\n",
      "Archivo Excel exportado con éxito.\n",
      "Archivo Excel exportado con éxito.\n",
      "Archivo Excel exportado con éxito.\n",
      "Archivo Excel exportado con éxito.\n",
      "Archivo Excel exportado con éxito.\n",
      "Archivo Excel exportado con éxito.\n",
      "Archivo Excel exportado con éxito.\n",
      "Archivo Excel exportado con éxito.\n",
      "Archivo Excel exportado con éxito.\n",
      "Archivo Excel exportado con éxito.\n",
      "Archivo Excel exportado con éxito.\n",
      "Archivo Excel exportado con éxito.\n",
      "Archivo Excel exportado con éxito.\n",
      "Archivo Excel exportado con éxito.\n",
      "Archivo Excel exportado con éxito.\n",
      "Archivo Excel exportado con éxito.\n",
      "Archivo Excel exportado con éxito.\n",
      "Archivo Excel exportado con éxito.\n",
      "Archivo Excel exportado con éxito.\n",
      "Archivo Excel exportado con éxito.\n",
      "Archivo Excel exportado con éxito.\n",
      "Archivo Excel exportado con éxito.\n",
      "Archivo Excel exportado con éxito.\n",
      "Archivo Excel exportado con éxito.\n",
      "Archivo Excel exportado con éxito.\n",
      "Archivo Excel exportado con éxito.\n",
      "Archivo Excel exportado con éxito.\n",
      "Archivo Excel exportado con éxito.\n",
      "Archivo Excel exportado con éxito.\n",
      "Archivo Excel exportado con éxito.\n",
      "Archivo Excel exportado con éxito.\n",
      "Archivo Excel exportado con éxito.\n",
      "Archivo Excel exportado con éxito.\n",
      "Archivo Excel exportado con éxito.\n",
      "Archivo Excel exportado con éxito.\n",
      "Archivo Excel exportado con éxito.\n",
      "Archivo Excel exportado con éxito.\n",
      "Archivo Excel exportado con éxito.\n",
      "Archivo Excel exportado con éxito.\n",
      "Archivo Excel exportado con éxito.\n",
      "Archivo Excel exportado con éxito.\n",
      "Archivo Excel exportado con éxito.\n",
      "Archivo Excel exportado con éxito.\n",
      "Archivo Excel exportado con éxito.\n",
      "Archivo Excel exportado con éxito.\n",
      "Archivo Excel exportado con éxito.\n",
      "Archivo Excel exportado con éxito.\n",
      "Archivo Excel exportado con éxito.\n",
      "Archivo Excel exportado con éxito.\n",
      "Archivo Excel exportado con éxito.\n",
      "Archivo Excel exportado con éxito.\n",
      "Archivo Excel exportado con éxito.\n",
      "Archivo Excel exportado con éxito.\n",
      "Archivo Excel exportado con éxito.\n",
      "Archivo Excel exportado con éxito.\n",
      "Archivo Excel exportado con éxito.\n",
      "Archivo Excel exportado con éxito.\n",
      "Archivo Excel exportado con éxito.\n",
      "Archivo Excel exportado con éxito.\n",
      "Archivo Excel exportado con éxito.\n",
      "Archivo Excel exportado con éxito.\n",
      "Archivo Excel exportado con éxito.\n",
      "Archivo Excel exportado con éxito.\n",
      "Archivo Excel exportado con éxito.\n",
      "Archivo Excel exportado con éxito.\n",
      "Archivo Excel exportado con éxito.\n",
      "Archivo Excel exportado con éxito.\n",
      "Archivo Excel exportado con éxito.\n",
      "Archivo Excel exportado con éxito.\n",
      "Archivo Excel exportado con éxito.\n",
      "Archivo Excel exportado con éxito.\n",
      "Archivo Excel exportado con éxito.\n",
      "Archivo Excel exportado con éxito.\n",
      "Archivo Excel exportado con éxito.\n",
      "Archivo Excel exportado con éxito.\n",
      "Archivo Excel exportado con éxito.\n",
      "Archivo Excel exportado con éxito.\n",
      "Archivo Excel exportado con éxito.\n",
      "Archivo Excel exportado con éxito.\n",
      "Archivo Excel exportado con éxito.\n",
      "Archivo Excel exportado con éxito.\n",
      "Archivo Excel exportado con éxito.\n",
      "Archivo Excel exportado con éxito.\n",
      "Archivo Excel exportado con éxito.\n",
      "Archivo Excel exportado con éxito.\n",
      "Archivo Excel exportado con éxito.\n",
      "Archivo Excel exportado con éxito.\n",
      "Archivo Excel exportado con éxito.\n",
      "Archivo Excel exportado con éxito.\n",
      "Archivo Excel exportado con éxito.\n",
      "Archivo Excel exportado con éxito.\n",
      "Archivo Excel exportado con éxito.\n",
      "Archivo Excel exportado con éxito.\n",
      "Archivo Excel exportado con éxito.\n",
      "Archivo Excel exportado con éxito.\n",
      "Archivo Excel exportado con éxito.\n",
      "Archivo Excel exportado con éxito.\n",
      "Archivo Excel exportado con éxito.\n",
      "Archivo Excel exportado con éxito.\n",
      "Archivo Excel exportado con éxito.\n",
      "Archivo Excel exportado con éxito.\n",
      "Archivo Excel exportado con éxito.\n",
      "Archivo Excel exportado con éxito.\n",
      "Archivo Excel exportado con éxito.\n",
      "Archivo Excel exportado con éxito.\n",
      "Archivo Excel exportado con éxito.\n",
      "Archivo Excel exportado con éxito.\n",
      "Archivo Excel exportado con éxito.\n",
      "Archivo Excel exportado con éxito.\n",
      "Archivo Excel exportado con éxito.\n",
      "Archivo Excel exportado con éxito.\n",
      "Archivo Excel exportado con éxito.\n",
      "Archivo Excel exportado con éxito.\n",
      "Archivo Excel exportado con éxito.\n",
      "Archivo Excel exportado con éxito.\n",
      "Archivo Excel exportado con éxito.\n",
      "Archivo Excel exportado con éxito.\n",
      "Archivo Excel exportado con éxito.\n",
      "Archivo Excel exportado con éxito.\n",
      "Archivo Excel exportado con éxito.\n",
      "Archivo Excel exportado con éxito.\n",
      "Archivo Excel exportado con éxito.\n",
      "Archivo Excel exportado con éxito.\n",
      "Archivo Excel exportado con éxito.\n",
      "Archivo Excel exportado con éxito.\n",
      "Archivo Excel exportado con éxito.\n"
     ]
    },
    {
     "ename": "PermissionError",
     "evalue": "[Errno 13] Permission denied: 'links_noticias_lanacion.xlsx'",
     "output_type": "error",
     "traceback": [
      "\u001b[1;31m---------------------------------------------------------------------------\u001b[0m",
      "\u001b[1;31mPermissionError\u001b[0m                           Traceback (most recent call last)",
      "Cell \u001b[1;32mIn[58], line 16\u001b[0m\n\u001b[0;32m     12\u001b[0m     links\u001b[38;5;241m.\u001b[39mappend(full_link)\n\u001b[0;32m     14\u001b[0m     df \u001b[38;5;241m=\u001b[39m pd\u001b[38;5;241m.\u001b[39mDataFrame(links, columns\u001b[38;5;241m=\u001b[39m[\u001b[38;5;124m'\u001b[39m\u001b[38;5;124mLink\u001b[39m\u001b[38;5;124m'\u001b[39m])\n\u001b[1;32m---> 16\u001b[0m     \u001b[43mdf\u001b[49m\u001b[38;5;241;43m.\u001b[39;49m\u001b[43mto_excel\u001b[49m\u001b[43m(\u001b[49m\u001b[38;5;124;43m'\u001b[39;49m\u001b[38;5;124;43mlinks_noticias_lanacion.xlsx\u001b[39;49m\u001b[38;5;124;43m'\u001b[39;49m\u001b[43m,\u001b[49m\u001b[43m \u001b[49m\u001b[43mindex\u001b[49m\u001b[38;5;241;43m=\u001b[39;49m\u001b[38;5;28;43;01mFalse\u001b[39;49;00m\u001b[43m)\u001b[49m\n\u001b[0;32m     18\u001b[0m     \u001b[38;5;28mprint\u001b[39m(\u001b[38;5;124m\"\u001b[39m\u001b[38;5;124mArchivo Excel exportado con éxito.\u001b[39m\u001b[38;5;124m\"\u001b[39m)\n\u001b[0;32m     19\u001b[0m \u001b[38;5;28;01melse\u001b[39;00m:\n",
      "File \u001b[1;32m~\\AppData\\Local\\Programs\\Python\\Python313\\Lib\\site-packages\\pandas\\util\\_decorators.py:333\u001b[0m, in \u001b[0;36mdeprecate_nonkeyword_arguments.<locals>.decorate.<locals>.wrapper\u001b[1;34m(*args, **kwargs)\u001b[0m\n\u001b[0;32m    327\u001b[0m \u001b[38;5;28;01mif\u001b[39;00m \u001b[38;5;28mlen\u001b[39m(args) \u001b[38;5;241m>\u001b[39m num_allow_args:\n\u001b[0;32m    328\u001b[0m     warnings\u001b[38;5;241m.\u001b[39mwarn(\n\u001b[0;32m    329\u001b[0m         msg\u001b[38;5;241m.\u001b[39mformat(arguments\u001b[38;5;241m=\u001b[39m_format_argument_list(allow_args)),\n\u001b[0;32m    330\u001b[0m         \u001b[38;5;167;01mFutureWarning\u001b[39;00m,\n\u001b[0;32m    331\u001b[0m         stacklevel\u001b[38;5;241m=\u001b[39mfind_stack_level(),\n\u001b[0;32m    332\u001b[0m     )\n\u001b[1;32m--> 333\u001b[0m \u001b[38;5;28;01mreturn\u001b[39;00m \u001b[43mfunc\u001b[49m\u001b[43m(\u001b[49m\u001b[38;5;241;43m*\u001b[39;49m\u001b[43margs\u001b[49m\u001b[43m,\u001b[49m\u001b[43m \u001b[49m\u001b[38;5;241;43m*\u001b[39;49m\u001b[38;5;241;43m*\u001b[39;49m\u001b[43mkwargs\u001b[49m\u001b[43m)\u001b[49m\n",
      "File \u001b[1;32m~\\AppData\\Local\\Programs\\Python\\Python313\\Lib\\site-packages\\pandas\\core\\generic.py:2417\u001b[0m, in \u001b[0;36mNDFrame.to_excel\u001b[1;34m(self, excel_writer, sheet_name, na_rep, float_format, columns, header, index, index_label, startrow, startcol, engine, merge_cells, inf_rep, freeze_panes, storage_options, engine_kwargs)\u001b[0m\n\u001b[0;32m   2404\u001b[0m \u001b[38;5;28;01mfrom\u001b[39;00m \u001b[38;5;21;01mpandas\u001b[39;00m\u001b[38;5;21;01m.\u001b[39;00m\u001b[38;5;21;01mio\u001b[39;00m\u001b[38;5;21;01m.\u001b[39;00m\u001b[38;5;21;01mformats\u001b[39;00m\u001b[38;5;21;01m.\u001b[39;00m\u001b[38;5;21;01mexcel\u001b[39;00m \u001b[38;5;28;01mimport\u001b[39;00m ExcelFormatter\n\u001b[0;32m   2406\u001b[0m formatter \u001b[38;5;241m=\u001b[39m ExcelFormatter(\n\u001b[0;32m   2407\u001b[0m     df,\n\u001b[0;32m   2408\u001b[0m     na_rep\u001b[38;5;241m=\u001b[39mna_rep,\n\u001b[1;32m   (...)\u001b[0m\n\u001b[0;32m   2415\u001b[0m     inf_rep\u001b[38;5;241m=\u001b[39minf_rep,\n\u001b[0;32m   2416\u001b[0m )\n\u001b[1;32m-> 2417\u001b[0m \u001b[43mformatter\u001b[49m\u001b[38;5;241;43m.\u001b[39;49m\u001b[43mwrite\u001b[49m\u001b[43m(\u001b[49m\n\u001b[0;32m   2418\u001b[0m \u001b[43m    \u001b[49m\u001b[43mexcel_writer\u001b[49m\u001b[43m,\u001b[49m\n\u001b[0;32m   2419\u001b[0m \u001b[43m    \u001b[49m\u001b[43msheet_name\u001b[49m\u001b[38;5;241;43m=\u001b[39;49m\u001b[43msheet_name\u001b[49m\u001b[43m,\u001b[49m\n\u001b[0;32m   2420\u001b[0m \u001b[43m    \u001b[49m\u001b[43mstartrow\u001b[49m\u001b[38;5;241;43m=\u001b[39;49m\u001b[43mstartrow\u001b[49m\u001b[43m,\u001b[49m\n\u001b[0;32m   2421\u001b[0m \u001b[43m    \u001b[49m\u001b[43mstartcol\u001b[49m\u001b[38;5;241;43m=\u001b[39;49m\u001b[43mstartcol\u001b[49m\u001b[43m,\u001b[49m\n\u001b[0;32m   2422\u001b[0m \u001b[43m    \u001b[49m\u001b[43mfreeze_panes\u001b[49m\u001b[38;5;241;43m=\u001b[39;49m\u001b[43mfreeze_panes\u001b[49m\u001b[43m,\u001b[49m\n\u001b[0;32m   2423\u001b[0m \u001b[43m    \u001b[49m\u001b[43mengine\u001b[49m\u001b[38;5;241;43m=\u001b[39;49m\u001b[43mengine\u001b[49m\u001b[43m,\u001b[49m\n\u001b[0;32m   2424\u001b[0m \u001b[43m    \u001b[49m\u001b[43mstorage_options\u001b[49m\u001b[38;5;241;43m=\u001b[39;49m\u001b[43mstorage_options\u001b[49m\u001b[43m,\u001b[49m\n\u001b[0;32m   2425\u001b[0m \u001b[43m    \u001b[49m\u001b[43mengine_kwargs\u001b[49m\u001b[38;5;241;43m=\u001b[39;49m\u001b[43mengine_kwargs\u001b[49m\u001b[43m,\u001b[49m\n\u001b[0;32m   2426\u001b[0m \u001b[43m\u001b[49m\u001b[43m)\u001b[49m\n",
      "File \u001b[1;32m~\\AppData\\Local\\Programs\\Python\\Python313\\Lib\\site-packages\\pandas\\io\\formats\\excel.py:943\u001b[0m, in \u001b[0;36mExcelFormatter.write\u001b[1;34m(self, writer, sheet_name, startrow, startcol, freeze_panes, engine, storage_options, engine_kwargs)\u001b[0m\n\u001b[0;32m    941\u001b[0m     need_save \u001b[38;5;241m=\u001b[39m \u001b[38;5;28;01mFalse\u001b[39;00m\n\u001b[0;32m    942\u001b[0m \u001b[38;5;28;01melse\u001b[39;00m:\n\u001b[1;32m--> 943\u001b[0m     writer \u001b[38;5;241m=\u001b[39m \u001b[43mExcelWriter\u001b[49m\u001b[43m(\u001b[49m\n\u001b[0;32m    944\u001b[0m \u001b[43m        \u001b[49m\u001b[43mwriter\u001b[49m\u001b[43m,\u001b[49m\n\u001b[0;32m    945\u001b[0m \u001b[43m        \u001b[49m\u001b[43mengine\u001b[49m\u001b[38;5;241;43m=\u001b[39;49m\u001b[43mengine\u001b[49m\u001b[43m,\u001b[49m\n\u001b[0;32m    946\u001b[0m \u001b[43m        \u001b[49m\u001b[43mstorage_options\u001b[49m\u001b[38;5;241;43m=\u001b[39;49m\u001b[43mstorage_options\u001b[49m\u001b[43m,\u001b[49m\n\u001b[0;32m    947\u001b[0m \u001b[43m        \u001b[49m\u001b[43mengine_kwargs\u001b[49m\u001b[38;5;241;43m=\u001b[39;49m\u001b[43mengine_kwargs\u001b[49m\u001b[43m,\u001b[49m\n\u001b[0;32m    948\u001b[0m \u001b[43m    \u001b[49m\u001b[43m)\u001b[49m\n\u001b[0;32m    949\u001b[0m     need_save \u001b[38;5;241m=\u001b[39m \u001b[38;5;28;01mTrue\u001b[39;00m\n\u001b[0;32m    951\u001b[0m \u001b[38;5;28;01mtry\u001b[39;00m:\n",
      "File \u001b[1;32m~\\AppData\\Local\\Programs\\Python\\Python313\\Lib\\site-packages\\pandas\\io\\excel\\_openpyxl.py:61\u001b[0m, in \u001b[0;36mOpenpyxlWriter.__init__\u001b[1;34m(self, path, engine, date_format, datetime_format, mode, storage_options, if_sheet_exists, engine_kwargs, **kwargs)\u001b[0m\n\u001b[0;32m     57\u001b[0m \u001b[38;5;28;01mfrom\u001b[39;00m \u001b[38;5;21;01mopenpyxl\u001b[39;00m\u001b[38;5;21;01m.\u001b[39;00m\u001b[38;5;21;01mworkbook\u001b[39;00m \u001b[38;5;28;01mimport\u001b[39;00m Workbook\n\u001b[0;32m     59\u001b[0m engine_kwargs \u001b[38;5;241m=\u001b[39m combine_kwargs(engine_kwargs, kwargs)\n\u001b[1;32m---> 61\u001b[0m \u001b[38;5;28;43msuper\u001b[39;49m\u001b[43m(\u001b[49m\u001b[43m)\u001b[49m\u001b[38;5;241;43m.\u001b[39;49m\u001b[38;5;21;43m__init__\u001b[39;49m\u001b[43m(\u001b[49m\n\u001b[0;32m     62\u001b[0m \u001b[43m    \u001b[49m\u001b[43mpath\u001b[49m\u001b[43m,\u001b[49m\n\u001b[0;32m     63\u001b[0m \u001b[43m    \u001b[49m\u001b[43mmode\u001b[49m\u001b[38;5;241;43m=\u001b[39;49m\u001b[43mmode\u001b[49m\u001b[43m,\u001b[49m\n\u001b[0;32m     64\u001b[0m \u001b[43m    \u001b[49m\u001b[43mstorage_options\u001b[49m\u001b[38;5;241;43m=\u001b[39;49m\u001b[43mstorage_options\u001b[49m\u001b[43m,\u001b[49m\n\u001b[0;32m     65\u001b[0m \u001b[43m    \u001b[49m\u001b[43mif_sheet_exists\u001b[49m\u001b[38;5;241;43m=\u001b[39;49m\u001b[43mif_sheet_exists\u001b[49m\u001b[43m,\u001b[49m\n\u001b[0;32m     66\u001b[0m \u001b[43m    \u001b[49m\u001b[43mengine_kwargs\u001b[49m\u001b[38;5;241;43m=\u001b[39;49m\u001b[43mengine_kwargs\u001b[49m\u001b[43m,\u001b[49m\n\u001b[0;32m     67\u001b[0m \u001b[43m\u001b[49m\u001b[43m)\u001b[49m\n\u001b[0;32m     69\u001b[0m \u001b[38;5;66;03m# ExcelWriter replaced \"a\" by \"r+\" to allow us to first read the excel file from\u001b[39;00m\n\u001b[0;32m     70\u001b[0m \u001b[38;5;66;03m# the file and later write to it\u001b[39;00m\n\u001b[0;32m     71\u001b[0m \u001b[38;5;28;01mif\u001b[39;00m \u001b[38;5;124m\"\u001b[39m\u001b[38;5;124mr+\u001b[39m\u001b[38;5;124m\"\u001b[39m \u001b[38;5;129;01min\u001b[39;00m \u001b[38;5;28mself\u001b[39m\u001b[38;5;241m.\u001b[39m_mode:  \u001b[38;5;66;03m# Load from existing workbook\u001b[39;00m\n",
      "File \u001b[1;32m~\\AppData\\Local\\Programs\\Python\\Python313\\Lib\\site-packages\\pandas\\io\\excel\\_base.py:1246\u001b[0m, in \u001b[0;36mExcelWriter.__init__\u001b[1;34m(self, path, engine, date_format, datetime_format, mode, storage_options, if_sheet_exists, engine_kwargs)\u001b[0m\n\u001b[0;32m   1242\u001b[0m \u001b[38;5;28mself\u001b[39m\u001b[38;5;241m.\u001b[39m_handles \u001b[38;5;241m=\u001b[39m IOHandles(\n\u001b[0;32m   1243\u001b[0m     cast(IO[\u001b[38;5;28mbytes\u001b[39m], path), compression\u001b[38;5;241m=\u001b[39m{\u001b[38;5;124m\"\u001b[39m\u001b[38;5;124mcompression\u001b[39m\u001b[38;5;124m\"\u001b[39m: \u001b[38;5;28;01mNone\u001b[39;00m}\n\u001b[0;32m   1244\u001b[0m )\n\u001b[0;32m   1245\u001b[0m \u001b[38;5;28;01mif\u001b[39;00m \u001b[38;5;129;01mnot\u001b[39;00m \u001b[38;5;28misinstance\u001b[39m(path, ExcelWriter):\n\u001b[1;32m-> 1246\u001b[0m     \u001b[38;5;28mself\u001b[39m\u001b[38;5;241m.\u001b[39m_handles \u001b[38;5;241m=\u001b[39m \u001b[43mget_handle\u001b[49m\u001b[43m(\u001b[49m\n\u001b[0;32m   1247\u001b[0m \u001b[43m        \u001b[49m\u001b[43mpath\u001b[49m\u001b[43m,\u001b[49m\u001b[43m \u001b[49m\u001b[43mmode\u001b[49m\u001b[43m,\u001b[49m\u001b[43m \u001b[49m\u001b[43mstorage_options\u001b[49m\u001b[38;5;241;43m=\u001b[39;49m\u001b[43mstorage_options\u001b[49m\u001b[43m,\u001b[49m\u001b[43m \u001b[49m\u001b[43mis_text\u001b[49m\u001b[38;5;241;43m=\u001b[39;49m\u001b[38;5;28;43;01mFalse\u001b[39;49;00m\n\u001b[0;32m   1248\u001b[0m \u001b[43m    \u001b[49m\u001b[43m)\u001b[49m\n\u001b[0;32m   1249\u001b[0m \u001b[38;5;28mself\u001b[39m\u001b[38;5;241m.\u001b[39m_cur_sheet \u001b[38;5;241m=\u001b[39m \u001b[38;5;28;01mNone\u001b[39;00m\n\u001b[0;32m   1251\u001b[0m \u001b[38;5;28;01mif\u001b[39;00m date_format \u001b[38;5;129;01mis\u001b[39;00m \u001b[38;5;28;01mNone\u001b[39;00m:\n",
      "File \u001b[1;32m~\\AppData\\Local\\Programs\\Python\\Python313\\Lib\\site-packages\\pandas\\io\\common.py:882\u001b[0m, in \u001b[0;36mget_handle\u001b[1;34m(path_or_buf, mode, encoding, compression, memory_map, is_text, errors, storage_options)\u001b[0m\n\u001b[0;32m    873\u001b[0m         handle \u001b[38;5;241m=\u001b[39m \u001b[38;5;28mopen\u001b[39m(\n\u001b[0;32m    874\u001b[0m             handle,\n\u001b[0;32m    875\u001b[0m             ioargs\u001b[38;5;241m.\u001b[39mmode,\n\u001b[1;32m   (...)\u001b[0m\n\u001b[0;32m    878\u001b[0m             newline\u001b[38;5;241m=\u001b[39m\u001b[38;5;124m\"\u001b[39m\u001b[38;5;124m\"\u001b[39m,\n\u001b[0;32m    879\u001b[0m         )\n\u001b[0;32m    880\u001b[0m     \u001b[38;5;28;01melse\u001b[39;00m:\n\u001b[0;32m    881\u001b[0m         \u001b[38;5;66;03m# Binary mode\u001b[39;00m\n\u001b[1;32m--> 882\u001b[0m         handle \u001b[38;5;241m=\u001b[39m \u001b[38;5;28;43mopen\u001b[39;49m\u001b[43m(\u001b[49m\u001b[43mhandle\u001b[49m\u001b[43m,\u001b[49m\u001b[43m \u001b[49m\u001b[43mioargs\u001b[49m\u001b[38;5;241;43m.\u001b[39;49m\u001b[43mmode\u001b[49m\u001b[43m)\u001b[49m\n\u001b[0;32m    883\u001b[0m     handles\u001b[38;5;241m.\u001b[39mappend(handle)\n\u001b[0;32m    885\u001b[0m \u001b[38;5;66;03m# Convert BytesIO or file objects passed with an encoding\u001b[39;00m\n",
      "\u001b[1;31mPermissionError\u001b[0m: [Errno 13] Permission denied: 'links_noticias_lanacion.xlsx'"
     ]
    }
   ],
   "source": [
    "#Por último y más complejo, realizaremos la descarga a un archivo excel para cada una de las portadas de la web de LN\n",
    "links = []\n",
    "for a_tag in soup.find_all('a', href=True):\n",
    "    link = a_tag['href']\n",
    "        \n",
    "    if link.startswith('/'): \n",
    "       full_link = 'https://www.lanacion.com.ar' + link\n",
    "    elif 'lanacion.com.ar' in link:  \n",
    "       full_link = link\n",
    "    else:\n",
    "       continue\n",
    "    links.append(full_link)\n",
    "    \n",
    "    df = pd.DataFrame(links, columns=['Link'])\n",
    "    \n",
    "    df.to_excel('links_noticias_lanacion.xlsx', index=False)\n",
    "    \n",
    "    print(\"Archivo Excel exportado con éxito.\")\n",
    "else:\n",
    "    print(f\"Error en la solicitud: {response.status_code}\")"
   ]
  }
 ],
 "metadata": {
  "kernelspec": {
   "display_name": "Python 3 (ipykernel)",
   "language": "python",
   "name": "python3"
  },
  "language_info": {
   "codemirror_mode": {
    "name": "ipython",
    "version": 3
   },
   "file_extension": ".py",
   "mimetype": "text/x-python",
   "name": "python",
   "nbconvert_exporter": "python",
   "pygments_lexer": "ipython3",
   "version": "3.13.0"
  }
 },
 "nbformat": 4,
 "nbformat_minor": 5
}
